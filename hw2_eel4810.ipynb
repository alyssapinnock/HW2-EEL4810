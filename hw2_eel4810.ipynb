{
  "nbformat": 4,
  "nbformat_minor": 0,
  "metadata": {
    "colab": {
      "provenance": [],
      "authorship_tag": "ABX9TyP88eheh/ui3iKuWUIlw+FU",
      "include_colab_link": true
    },
    "kernelspec": {
      "name": "python3",
      "display_name": "Python 3"
    },
    "language_info": {
      "name": "python"
    }
  },
  "cells": [
    {
      "cell_type": "markdown",
      "metadata": {
        "id": "view-in-github",
        "colab_type": "text"
      },
      "source": [
        "<a href=\"https://colab.research.google.com/github/alyssapinnock/HW2-EEL4810/blob/main/hw2_eel4810.ipynb\" target=\"_parent\"><img src=\"https://colab.research.google.com/assets/colab-badge.svg\" alt=\"Open In Colab\"/></a>"
      ]
    },
    {
      "cell_type": "markdown",
      "source": [
        "Imports needed for the model and testing"
      ],
      "metadata": {
        "id": "dstvNaR4pxJm"
      }
    },
    {
      "cell_type": "code",
      "source": [
        "# main imports\n",
        "import torch\n",
        "import torch.nn as nn\n",
        "import torch.optim as optim #import optimizers\n",
        "from torch.utils.data import DataLoader, TensorDataset\n",
        "\n",
        "# data processing imports\n",
        "import numpy as np\n",
        "import pandas as pd\n",
        "from sklearn.model_selection import train_test_split\n",
        "from sklearn.preprocessing import StandardScaler\n",
        "\n",
        "# visualization imports\n",
        "import matplotlib.pyplot as plt\n",
        "%matplotlib inline\n",
        "\n",
        "from google.colab import files #file uploads\n",
        "import zipfile\n",
        "import os\n",
        "\n",
        "\n",
        "import warnings\n",
        "warnings.filterwarnings('ignore') #to suppress warnings"
      ],
      "metadata": {
        "id": "Cn_hN1FUBJ1z"
      },
      "execution_count": 1,
      "outputs": []
    },
    {
      "cell_type": "markdown",
      "source": [
        "Uploading the files and parsing to grab the features and labels"
      ],
      "metadata": {
        "id": "upu1QSz9MYUC"
      }
    },
    {
      "cell_type": "code",
      "source": [
        "all_features = []\n",
        "all_labels = []\n",
        "\n",
        "# loops to parse and collect the data for features and labels\n",
        "for root, dirs, files in os.walk('/content/dataset'):\n",
        "  for file in files:\n",
        "    if file.endswith('.csv'):\n",
        "      df = pd.read_csv(os.path.join(root, file), header=None)\n",
        "      df = df.apply(pd.to_numeric, errors='coerce').dropna()\n",
        "      if len(df) > 0:\n",
        "        all_features.append(df.iloc[:, 1:4].values) # parses columns 2-4 and sets as features\n",
        "        all_labels.append(df.iloc[:, 4].values) # parses column 5 and sets as labels\n",
        "\n",
        "X = torch.FloatTensor(np.vstack(all_features))\n",
        "y = torch.FloatTensor(np.hstack(all_labels)).reshape(-1, 1)\n",
        "X_train, X_test, y_train, y_test = train_test_split(X, y, test_size=0.1, random_state=42)\n"
      ],
      "metadata": {
        "collapsed": true,
        "id": "xb6F9QsBMdyC"
      },
      "execution_count": 8,
      "outputs": []
    },
    {
      "cell_type": "markdown",
      "source": [
        "Developing and training the model\n",
        "\n"
      ],
      "metadata": {
        "id": "AqFQ_sIHp3zO"
      }
    },
    {
      "cell_type": "code",
      "source": [
        "# MODEL DEVELOPMENT #\n",
        "class NeuralNetworkModel(nn.Module):\n",
        "    def __init__(self, input_size):\n",
        "        super().__init__()\n",
        "        self.layers = nn.Sequential(\n",
        "            nn.Linear(input_size, 64),\n",
        "            nn.ReLU(),\n",
        "            nn.Linear(64, 32),\n",
        "            nn.ReLU(),\n",
        "            nn.Linear(32, 16),\n",
        "            nn.ReLU(),\n",
        "            nn.Linear(16, 8),\n",
        "            nn.ReLU(),\n",
        "            nn.Linear(8, 1)\n",
        "\n",
        "        )\n",
        "\n",
        "    def forward(self, x):\n",
        "        return self.layers(x)\n",
        "\n",
        "\n",
        "# MODEL TRAINING #\n",
        "model = NeuralNetworkModel(input_size=X_train.shape[1])\n",
        "criterion = nn.MSELoss()\n",
        "optimizer = torch.optim.Adam(model.parameters(), lr=0.001)\n",
        "epochs = 200 # increased epochs from 100 to 200 for longer training time\n",
        "\n",
        "for epoch in range(epochs):\n",
        "  optimizer.zero_grad()\n",
        "  outputs = model(X_train)\n",
        "  loss = criterion(outputs, y_train)\n",
        "  loss.backward()\n",
        "  optimizer.step()\n",
        "  if(epoch + 1) % 10 == 0:\n",
        "    print(f'Epoch {epoch+1}, Loss: {loss.item():.4f}')\n",
        "\n",
        "model.eval()\n",
        "with torch.no_grad():\n",
        "  test_loss = criterion(model(X_test), y_test)\n",
        "  print(f'Test loss: {test_loss.item():.4f}')"
      ],
      "metadata": {
        "id": "hC1rjxFkFKGZ",
        "colab": {
          "base_uri": "https://localhost:8080/"
        },
        "outputId": "693d4c84-6baf-474c-f154-fc6258681ddb"
      },
      "execution_count": 11,
      "outputs": [
        {
          "output_type": "stream",
          "name": "stdout",
          "text": [
            "Epoch 10, Loss: 0.4184\n",
            "Epoch 20, Loss: 0.3614\n",
            "Epoch 30, Loss: 0.3475\n",
            "Epoch 40, Loss: 0.3231\n",
            "Epoch 50, Loss: 0.3119\n",
            "Epoch 60, Loss: 0.3041\n",
            "Epoch 70, Loss: 0.2966\n",
            "Epoch 80, Loss: 0.2891\n",
            "Epoch 90, Loss: 0.2821\n",
            "Epoch 100, Loss: 0.2756\n",
            "Epoch 110, Loss: 0.2709\n",
            "Epoch 120, Loss: 0.2668\n",
            "Epoch 130, Loss: 0.2631\n",
            "Epoch 140, Loss: 0.2602\n",
            "Epoch 150, Loss: 0.2578\n",
            "Epoch 160, Loss: 0.2556\n",
            "Epoch 170, Loss: 0.2533\n",
            "Epoch 180, Loss: 0.2523\n",
            "Epoch 190, Loss: 0.2514\n",
            "Epoch 200, Loss: 0.2526\n",
            "Test loss: 0.2640\n"
          ]
        }
      ]
    },
    {
      "cell_type": "code",
      "source": [],
      "metadata": {
        "id": "LC29Lg9yqI1d"
      },
      "execution_count": null,
      "outputs": []
    },
    {
      "cell_type": "code",
      "source": [],
      "metadata": {
        "id": "B6HMmICgqJVl"
      },
      "execution_count": null,
      "outputs": []
    },
    {
      "cell_type": "markdown",
      "source": [
        "Experiments (Part 2)"
      ],
      "metadata": {
        "id": "TlMNyH6oqE8d"
      }
    },
    {
      "cell_type": "code",
      "source": [],
      "metadata": {
        "id": "0MsTyiwRqJ0G"
      },
      "execution_count": null,
      "outputs": []
    }
  ]
}