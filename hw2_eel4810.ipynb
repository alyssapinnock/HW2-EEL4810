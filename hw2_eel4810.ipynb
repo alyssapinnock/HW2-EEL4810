{
  "nbformat": 4,
  "nbformat_minor": 0,
  "metadata": {
    "colab": {
      "provenance": [],
      "authorship_tag": "ABX9TyOZjQvtSBaXsuNdhhSLxmkB",
      "include_colab_link": true
    },
    "kernelspec": {
      "name": "python3",
      "display_name": "Python 3"
    },
    "language_info": {
      "name": "python"
    }
  },
  "cells": [
    {
      "cell_type": "markdown",
      "metadata": {
        "id": "view-in-github",
        "colab_type": "text"
      },
      "source": [
        "<a href=\"https://colab.research.google.com/github/alyssapinnock/HW2-EEL4810/blob/main/hw2_eel4810.ipynb\" target=\"_parent\"><img src=\"https://colab.research.google.com/assets/colab-badge.svg\" alt=\"Open In Colab\"/></a>"
      ]
    },
    {
      "cell_type": "markdown",
      "source": [
        "1. Data Preparation"
      ],
      "metadata": {
        "id": "dstvNaR4pxJm"
      }
    },
    {
      "cell_type": "code",
      "source": [
        "# Main imports\n",
        "import torch\n",
        "import torch.nn as nn\n",
        "import torch.optim as optim #import optimizers\n",
        "from torch.utils.data import DataLoader, TensorDataset\n",
        "\n",
        "# Data processing imports\n",
        "import numpy as np\n",
        "import pandas as pd\n",
        "from sklearn.model_selection import train_test_split\n",
        "from sklearn.preprocessing import StandardScaler\n",
        "\n",
        "# Visualization imports\n",
        "import matplotlib.pyplot as plt\n",
        "%matplotlib inline\n",
        "\n",
        "from google.colab import files #file uploads\n",
        "import warnings\n",
        "warnings.filterwarnings('ignore') #to suppress warnings"
      ],
      "metadata": {
        "id": "Cn_hN1FUBJ1z"
      },
      "execution_count": null,
      "outputs": []
    },
    {
      "cell_type": "markdown",
      "source": [
        "2. Model Definition\n",
        "\n"
      ],
      "metadata": {
        "id": "AqFQ_sIHp3zO"
      }
    },
    {
      "cell_type": "code",
      "source": [
        "# Create the Model Class that inherits nn.Module\n",
        "class NeuralNetworkModel(nn.Module):\n",
        "  def __init__(self, input_size):\n",
        "    super(NeuralNetworkModel, self).__init__()\n",
        "    self.layers = nn.Sequential(\n",
        "        nn.Linear(input_size, 64),\n",
        "        nn.ReLU(),\n",
        "        nn.Linear(64, 32),\n",
        "        nn.ReLU(),\n",
        "        nn.Linear(32, 16),\n",
        "        nn.ReLU(),\n",
        "        nn.Linear(16, 8),\n",
        "        nn.ReLU(),\n",
        "        nn.Linear(8, 1)\n",
        "\n",
        "    )\n",
        "\n",
        "    def forward(self, x):\n",
        "      return self.layers(x)\n"
      ],
      "metadata": {
        "id": "hC1rjxFkFKGZ"
      },
      "execution_count": null,
      "outputs": []
    },
    {
      "cell_type": "markdown",
      "source": [
        "3. Training Loop"
      ],
      "metadata": {
        "id": "rxO89XYfp78G"
      }
    },
    {
      "cell_type": "code",
      "source": [],
      "metadata": {
        "id": "LC29Lg9yqI1d"
      },
      "execution_count": null,
      "outputs": []
    },
    {
      "cell_type": "markdown",
      "source": [
        "4. Testing & Saving"
      ],
      "metadata": {
        "id": "GNtj1dsIp-b1"
      }
    },
    {
      "cell_type": "code",
      "source": [],
      "metadata": {
        "id": "B6HMmICgqJVl"
      },
      "execution_count": null,
      "outputs": []
    },
    {
      "cell_type": "markdown",
      "source": [
        "5. Experiments (Part 2)"
      ],
      "metadata": {
        "id": "TlMNyH6oqE8d"
      }
    },
    {
      "cell_type": "code",
      "source": [],
      "metadata": {
        "id": "0MsTyiwRqJ0G"
      },
      "execution_count": null,
      "outputs": []
    }
  ]
}